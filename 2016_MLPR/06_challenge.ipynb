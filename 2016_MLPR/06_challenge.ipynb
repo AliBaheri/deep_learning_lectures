{
 "cells": [
  {
   "cell_type": "markdown",
   "metadata": {},
   "source": [
    "# Mini-Challenge!\n",
    "\n",
    "\n",
    "In the previous tutorials, we've explored the possibilities given both [Theano](http://deeplearning.net/software/theano/) and [Keras](https://keras.io/) frameworks. For these we provided full-working examples (conditioned on the correct installation of the libraries) which you find in this same repository. *Now it's time to get your hands dirty.*"
   ]
  },
  {
   "cell_type": "markdown",
   "metadata": {},
   "source": [
    "### Task\n",
    "\n",
    "A lot of machine-learning algorithms are **data-hungry** and the recent advent of deep learning has worsened this situation. The more complex our model, the more data we need to properly train it. However, the truth is that **labeling data is expensive** and more often than not we find ourselves in situations in which we just don't have as much labeled data as we'd like to have.\n",
    "\n",
    "Nonetheless, the good news is that we almost always have a lot of *unlabeled* data. Maybe we can **learn the data structure in an unsupervised way**, then use this information to effectively train our model of the few labeled examples we have.\n",
    "\n",
    "--- \n",
    "\n",
    "The task of this challenge is again multi-class classification on [CIFAR-10](https://www.cs.toronto.edu/~kriz/cifar.html) dataset, but with a *caveat*. This time, the **training set is restricted to 500 images** only. However, the other **59K images without label** are also available.\n",
    "\n",
    "### Goal\n",
    "\n",
    "The goal is to obtain the best possible *accuracy* on the test set (also 500 images). You can freely choose your classification model, either *deep* or *shallow*, whatever works best.\n",
    "\n",
    "*NB: If you don't finish in this lab lecture, you can always finish \"offline\" and submit us your solution later.*\n",
    "\n",
    "### Constraints\n",
    "\n",
    "- Supervised training can only be performed on the provided set `X_labeled_train`.\n",
    "- Results can be easily and consistently reproduced\n",
    "\n",
    "That's all. **Good Luck!**\n",
    "\n"
   ]
  },
  {
   "cell_type": "markdown",
   "metadata": {},
   "source": [
    "## Loading challenge data\n",
    "\n",
    "In order to split the data appropriately for the challenge, we prepared the `get_unlabeled_cifar10` helper function, (use should be self-explaining)."
   ]
  },
  {
   "cell_type": "code",
   "execution_count": 1,
   "metadata": {
    "collapsed": false
   },
   "outputs": [
    {
     "name": "stderr",
     "output_type": "stream",
     "text": [
      "Using Theano backend.\n",
      "Using gpu device 0: Quadro K2200 (CNMeM is disabled, cuDNN 5005)\n"
     ]
    },
    {
     "name": "stdout",
     "output_type": "stream",
     "text": [
      "Number of UNLABELED examples: (Train: 50000, Val: 9000)\n",
      "Number of LABELED examples (Train: 500, Test: 500)\n"
     ]
    }
   ],
   "source": [
    "from __future__ import print_function\n",
    "from keras.datasets import cifar10\n",
    "from keras.utils import np_utils\n",
    "import numpy as np\n",
    "\n",
    "\n",
    "cifar10_classes = 10\n",
    "\n",
    "\n",
    "def get_unlabeled_cifar10(nb_labeled_examples=1000):\n",
    "\n",
    "    # The data, shuffled and split between train and test sets:\n",
    "    (X_train, y_train), (X_test, y_test) = cifar10.load_data()\n",
    "\n",
    "    X_unlabeled_train = np.float32(X_train) / 255\n",
    "    X_unlabeled_val = np.float32(X_test[:-nb_labeled_examples]) / 255\n",
    "\n",
    "    X_labeled_train = np.float32(X_test[-nb_labeled_examples:-nb_labeled_examples/2]) / 255\n",
    "    X_labeled_test = np.float32(X_test[-nb_labeled_examples/2:]) / 255\n",
    "\n",
    "    y_labeled_train = y_test[-nb_labeled_examples:-nb_labeled_examples/2]\n",
    "    y_labeled_test = y_test[-nb_labeled_examples/2:]\n",
    "\n",
    "    # Convert class vectors to binary class matrices.\n",
    "    Y_labeled_train = np_utils.to_categorical(y_labeled_train, cifar10_classes)\n",
    "    Y_labeled_test = np_utils.to_categorical(y_labeled_test, cifar10_classes)\n",
    "\n",
    "    return (X_unlabeled_train, X_unlabeled_val), (X_labeled_train, Y_labeled_train), (X_labeled_test, Y_labeled_test)\n",
    "\n",
    "\n",
    "if __name__ == '__main__':\n",
    "    \n",
    "    (X_unlabel_train, X_unlabel_val), (X_label_train, Y_label_train), (X_label_test, Y_label_test) = get_unlabeled_cifar10()\n",
    "    \n",
    "    print('Number of UNLABELED examples: (Train: {}, Val: {})'.format(len(X_unlabel_train), len(X_unlabel_val)))\n",
    "    print('Number of LABELED examples (Train: {}, Test: {})'.format(len(X_label_train), len(X_label_test)))"
   ]
  },
  {
   "cell_type": "markdown",
   "metadata": {},
   "source": [
    "## Other functions that may help"
   ]
  },
  {
   "cell_type": "markdown",
   "metadata": {},
   "source": [
    "### Get the activation of a layer in a Keras model\n",
    "\n",
    "Let's see how to access the activation of any layer of a [Keras](https://keras.io/) model.\n",
    "\n",
    "First we can define a model `my_model`:"
   ]
  },
  {
   "cell_type": "code",
   "execution_count": 2,
   "metadata": {
    "collapsed": false
   },
   "outputs": [
    {
     "name": "stdout",
     "output_type": "stream",
     "text": [
      "____________________________________________________________________________________________________\n",
      "Layer (type)                     Output Shape          Param #     Connected to                     \n",
      "====================================================================================================\n",
      "input_1 (InputLayer)             (None, 3, 32, 32)     0                                            \n",
      "____________________________________________________________________________________________________\n",
      "convolution2d_1 (Convolution2D)  (None, 32, 32, 32)    896         input_1[0][0]                    \n",
      "____________________________________________________________________________________________________\n",
      "maxpooling2d_1 (MaxPooling2D)    (None, 32, 16, 16)    0           convolution2d_1[0][0]            \n",
      "____________________________________________________________________________________________________\n",
      "convolution2d_2 (Convolution2D)  (None, 64, 16, 16)    18496       maxpooling2d_1[0][0]             \n",
      "____________________________________________________________________________________________________\n",
      "maxpooling2d_2 (MaxPooling2D)    (None, 64, 4, 4)      0           convolution2d_2[0][0]            \n",
      "____________________________________________________________________________________________________\n",
      "convolution2d_3 (Convolution2D)  (None, 128, 4, 4)     73856       maxpooling2d_2[0][0]             \n",
      "____________________________________________________________________________________________________\n",
      "flatten_1 (Flatten)              (None, 2048)          0           convolution2d_3[0][0]            \n",
      "____________________________________________________________________________________________________\n",
      "dense_1 (Dense)                  (None, 128)           262272      flatten_1[0][0]                  \n",
      "____________________________________________________________________________________________________\n",
      "dense_2 (Dense)                  (None, 128)           16512       dense_1[0][0]                    \n",
      "====================================================================================================\n",
      "Total params: 372032\n",
      "____________________________________________________________________________________________________\n"
     ]
    }
   ],
   "source": [
    "from keras.layers import Dense, Dropout, Activation, Flatten, Input\n",
    "from keras.layers import Convolution2D, MaxPooling2D, UpSampling2D, Reshape\n",
    "from keras.models import Model\n",
    "\n",
    "model_input = Input(shape=(3, 32, 32))\n",
    "x = Convolution2D(32, 3, 3, border_mode='same', activation='relu')(model_input)\n",
    "x = MaxPooling2D(pool_size=(2, 2))(x)\n",
    "x = Convolution2D(64, 3, 3, border_mode='same', activation='relu')(x)\n",
    "x = MaxPooling2D(pool_size=(4, 4))(x)\n",
    "x = Convolution2D(128, 3, 3, border_mode='same', activation='relu')(x)\n",
    "x = Flatten()(x)\n",
    "x = Dense(128, activation='relu')(x)\n",
    "model_output = Dense(128, activation='relu')(x)\n",
    "my_model = Model(input=model_input, output=model_output)\n",
    "\n",
    "my_model.summary()"
   ]
  },
  {
   "cell_type": "markdown",
   "metadata": {},
   "source": [
    "If we want *e.g.* the output of the second Convolutional layer, we see that we find it at position 5 in the list `my_model.layers`:"
   ]
  },
  {
   "cell_type": "code",
   "execution_count": 3,
   "metadata": {
    "collapsed": false
   },
   "outputs": [
    {
     "name": "stdout",
     "output_type": "stream",
     "text": [
      "0: <keras.engine.topology.InputLayer object at 0x0000000004539908>\n",
      "1: <keras.layers.convolutional.Convolution2D object at 0x0000000004539898>\n",
      "2: <keras.layers.pooling.MaxPooling2D object at 0x00000000179B2F28>\n",
      "3: <keras.layers.convolutional.Convolution2D object at 0x0000000017B177B8>\n",
      "4: <keras.layers.pooling.MaxPooling2D object at 0x0000000017BEED30>\n",
      "5: <keras.layers.convolutional.Convolution2D object at 0x0000000017C01F60>\n",
      "6: <keras.layers.core.Flatten object at 0x0000000017BFC438>\n",
      "7: <keras.layers.core.Dense object at 0x0000000017C73CC0>\n",
      "8: <keras.layers.core.Dense object at 0x0000000017D514A8>\n"
     ]
    }
   ],
   "source": [
    "import keras.backend as K\n",
    "\n",
    "for (i, layer) in enumerate(my_model.layers):\n",
    "    print('{}: {}'.format(i, layer))\n",
    "    "
   ]
  },
  {
   "cell_type": "markdown",
   "metadata": {},
   "source": [
    "Thus, we can define a `backend` function to get the output of *that* layer, given a certain input:"
   ]
  },
  {
   "cell_type": "code",
   "execution_count": 4,
   "metadata": {
    "collapsed": true
   },
   "outputs": [],
   "source": [
    "which_layer = 5\n",
    "\n",
    "get_activations = K.function([my_model.layers[0].input, K.learning_phase()], my_model.layers[which_layer].output)"
   ]
  },
  {
   "cell_type": "markdown",
   "metadata": {},
   "source": [
    "We can now call `get_activations` with any input `test_example_i` as follows:"
   ]
  },
  {
   "cell_type": "code",
   "execution_count": 5,
   "metadata": {
    "collapsed": false
   },
   "outputs": [
    {
     "data": {
      "image/png": "[encoded data removed]",
      "text/plain": [
       "<matplotlib.figure.Figure at 0x183d7e48>"
      ]
     },
     "metadata": {},
     "output_type": "display_data"
    }
   ],
   "source": [
    "# let's take just a random example\n",
    "example_i = np.expand_dims(X_unlabel_train[0], 0)\n",
    "\n",
    "# get the activation of second convolutional layer for this example\n",
    "activation_i = get_activations([example_i, 0])\n",
    "\n",
    "# show activation\n",
    "%matplotlib inline\n",
    "import matplotlib.pyplot as plt\n",
    "\n",
    "plt.imshow(np.squeeze(activation_i)[0], interpolation='none')\n",
    "plt.show()\n"
   ]
  }
 ],
 "metadata": {
  "kernelspec": {
   "display_name": "Python 2",
   "language": "python",
   "name": "python2"
  },
  "language_info": {
   "codemirror_mode": {
    "name": "ipython",
    "version": 2
   },
   "file_extension": ".py",
   "mimetype": "text/x-python",
   "name": "python",
   "nbconvert_exporter": "python",
   "pygments_lexer": "ipython2",
   "version": "2.7.11"
  }
 },
 "nbformat": 4,
 "nbformat_minor": 0
}
