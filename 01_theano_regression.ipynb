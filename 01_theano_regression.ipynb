{
 "cells": [
  {
   "cell_type": "markdown",
   "metadata": {},
   "source": [
    "# Linear Regression with Theano\n",
    "In this tutorial we will move the first steps in the [Theano](http://deeplearning.net/software/theano/) library, a popular tensor manipulation library that provides automatic differentiation. We will learn the basics implementing a simple linear regression solver. \n",
    "We will test both the univariate and multivariate case."
   ]
  },
  {
   "cell_type": "markdown",
   "metadata": {},
   "source": [
    "## Remember linear regression?\n",
    "\n",
    "Recall that given a dataset $\\{(x_i, y_i)\\}_{i=0}^N$, with $x_i, y_i \\in \\mathbb{R}$, the objective of the univariate linear regression is to find two scalars $w$ and $b$ such that $y = w\\cdot x + b$ fits the dataset. In this tutorial we will learn $w$ and $b$ using SGD and a Mean Square Error (MSE) loss:\n",
    "\n",
    "$$L = \\frac{1}{N} \\sum_{i=0}^N (w\\cdot x_i + b - y_i)^2$$\n",
    "\n",
    "Starting from random values, parameters $w$ and $b$ will be updated at each iteration via the following rule:\n",
    "\n",
    "$$w_t = w_{t-1} - \\eta \\frac{\\partial L}{\\partial w}$$\n",
    "$$b_t = b_{t-1} - \\eta \\frac{\\partial L}{\\partial b}$$\n",
    "\n",
    "where $\\eta$ represents the learning rate of our optimizer.\n"
   ]
  },
  {
   "cell_type": "markdown",
   "metadata": {},
   "source": [
    "### Is the multivariate case different?\n",
    "Not really. The only meaningful thing is that $x_i$ is no more a scalar, but a point in $\\mathbb{R}^d$. Thus, $w$ is also a $d$-dimensional vector, and the linear model is expressed in terms of the dot product between the two: $y = w^T x + b$.\n",
    "\n",
    "Of course, the formula for MSE changes accordingly:\n",
    "\n",
    "$$L = \\frac{1}{N} \\sum_{i=0}^N (w^Tx_i + b - y_i)^2$$"
   ]
  },
  {
   "cell_type": "markdown",
   "metadata": {},
   "source": [
    "## Data\n",
    "Ok, we need some data to fit. We will test both the univariate and the multivariate regression with a \"simple/synthetic\" and \"hard/real\" dataset respectively."
   ]
  },
  {
   "cell_type": "markdown",
   "metadata": {},
   "source": [
    "### Create your own synthetic dataset\n",
    "For the univariate case, we can create our simple function that will generate observations and targets. Such function will receive in input the desired number of training and validation examples, as well as two scalars $a$ and $b$, to generate random  $(x,y)$ couples such that $y=a\\cdot x +b$."
   ]
  },
  {
   "cell_type": "code",
   "execution_count": 1,
   "metadata": {
    "collapsed": false
   },
   "outputs": [
    {
     "name": "stderr",
     "output_type": "stream",
     "text": [
      "Using Theano backend.\n"
     ]
    },
    {
     "name": "stdout",
     "output_type": "stream",
     "text": [
      "10000 Training samples\n",
      "2000 Validation samples\n",
      "1 observed variables\n"
     ]
    },
    {
     "name": "stderr",
     "output_type": "stream",
     "text": [
      "Using gpu device 0: Quadro K2200 (CNMeM is disabled, cuDNN 5103)\n"
     ]
    }
   ],
   "source": [
    "import keras.backend as K\n",
    "import numpy as np\n",
    "import matplotlib.pyplot as plt\n",
    "\n",
    "def get_univariate_data(nb_train, nb_val, a=2, b=1):\n",
    "    X_train = np.random.rand(nb_train, 1)\n",
    "    X_val = np.random.rand(nb_val, 1)\n",
    "\n",
    "    Y_train = a*X_train+b\n",
    "    Y_val = a*X_val+b\n",
    "\n",
    "    return X_train, np.squeeze(Y_train), X_val, np.squeeze(Y_val)\n",
    "\n",
    "# Load data\n",
    "X_train, Y_train, X_val, Y_val = get_univariate_data(10000,2000)\n",
    "n_feat = X_train.shape[1]\n",
    "\n",
    "print '{} Training samples'.format(X_train.shape[0])\n",
    "print '{} Validation samples'.format(X_val.shape[0])\n",
    "print '{} observed variables'.format(n_feat)"
   ]
  },
  {
   "cell_type": "markdown",
   "metadata": {},
   "source": [
    "### A real problem to solve\n",
    "To test the multivariate regression, we will use data from the [House Pricing Kaggle Competition](http://www.kaggle.com/c/house-prices-advanced-regression-techniques/). The proposed challenge is to predict a house price given other 79 variables, describing various aspects of it. Notice that this problem is hard and highly non-linear but, for the sake of this tutorial, we will use only real-valued features (about 30 variables) and a linear model.\n",
    "The function we will use to load data will\n",
    "* load data from the csv file into a numpy array;\n",
    "* remove columns containing non numerical or incomplete data;\n",
    "* shuffle the entire set\n",
    "* separate observations from targets\n",
    "* optionally add artificial quadratic features (simply as product of the existing ones)\n",
    "* split into training and validation samples\n",
    "\n",
    "and will look like this:"
   ]
  },
  {
   "cell_type": "code",
   "execution_count": 2,
   "metadata": {
    "collapsed": false
   },
   "outputs": [
    {
     "name": "stdout",
     "output_type": "stream",
     "text": [
      "(1168L, 33L)\n",
      "1168 Training samples\n",
      "292 Validation samples\n",
      "33 observed variables\n"
     ]
    }
   ],
   "source": [
    "import keras.backend as K\n",
    "import numpy as np\n",
    "import matplotlib.pyplot as plt\n",
    "\n",
    "def get_multivariate_data(non_linearities=False, train_ratio=0.8):\n",
    "\n",
    "    # Load data\n",
    "    data = np.genfromtxt('data/regression.csv', delimiter=',').astype(np.float32)\n",
    "    data = data[:, ~np.isnan(data).any(axis=0)]\n",
    "\n",
    "    # Shuffle data\n",
    "    np.random.shuffle(data)\n",
    "\n",
    "    # separate into observations and targets\n",
    "    X = data[:, 1:-1]\n",
    "    Y = data[:, -1]\n",
    "\n",
    "    # Optionally add non linear features\n",
    "    if non_linearities:\n",
    "        X_cl = X.copy()\n",
    "        n_var = X.shape[1]\n",
    "        for i in range(0, n_var):\n",
    "            for j in range(i, n_var):\n",
    "                f = np.expand_dims(X_cl[:, i]*X_cl[:, j], axis=1)\n",
    "                if f.max() != 0:  \n",
    "                    X = np.concatenate((X, f), axis=1)\n",
    "\n",
    "    # normalize X\n",
    "    x_norm = np.max(X, axis=0)\n",
    "    X /= x_norm\n",
    "\n",
    "    # Split into train and validation\n",
    "    X_train = X[0:int(X.shape[0]*train_ratio), :]\n",
    "    Y_train = Y[0:int(Y.shape[0]*train_ratio)]\n",
    "    X_val = X[int(X.shape[0]*train_ratio)::, :]\n",
    "    Y_val = Y[int(Y.shape[0]*train_ratio)::]\n",
    "\n",
    "    return X_train, Y_train, X_val, Y_val\n",
    "\n",
    "# Load data\n",
    "X_train, Y_train, X_val, Y_val = get_multivariate_data()\n",
    "n_feat = X_train.shape[1]\n",
    "\n",
    "print X_train.shape\n",
    "print '{} Training samples'.format(X_train.shape[0])\n",
    "print '{} Validation samples'.format(X_val.shape[0])\n",
    "print '{} observed variables'.format(n_feat)"
   ]
  },
  {
   "cell_type": "markdown",
   "metadata": {},
   "source": [
    "## Let's start!\n",
    "### Placeholders and variables\n",
    "To implement and run a linear model, we will use the [Keras backend module](http://keras.io/backend/), which provides an abstraction over Theano.\n",
    "\n",
    "First of all, we define the necessary variables and placeholders for our computational graph. Variables maintain state across executions of the computational graph, while placeholders are ways to feed the graph with external data.\n",
    "\n",
    "For the linear regression example, we need three variables: `w`, `b`, and the learning rate for SGD, `lr`. Two placeholders `x` and `target` are created to store $x_i$ and $y_i$ values."
   ]
  },
  {
   "cell_type": "code",
   "execution_count": 3,
   "metadata": {
    "collapsed": false
   },
   "outputs": [],
   "source": [
    "# Placeholders and variables\n",
    "x = K.placeholder(shape=(None, n_feat))\n",
    "target = K.placeholder(shape=(1,))\n",
    "lr = K.variable(0.01)\n",
    "w = K.variable(np.random.rand(n_feat))\n",
    "b = K.variable(np.random.rand())"
   ]
  },
  {
   "cell_type": "markdown",
   "metadata": {},
   "source": [
    "### Model definition\n",
    "Now we can define the $y = w^Tx + b$ relation as well as the MSE loss in the computational graph."
   ]
  },
  {
   "cell_type": "code",
   "execution_count": 4,
   "metadata": {
    "collapsed": true
   },
   "outputs": [],
   "source": [
    "# Define model and loss\n",
    "y = K.dot(x, w) + b\n",
    "loss = K.mean(K.square(y-target))\n",
    "eval_loss = K.function(inputs=[x, target], outputs=[loss])"
   ]
  },
  {
   "cell_type": "markdown",
   "metadata": {},
   "source": [
    "Then, given the gradient of MSE wrt to `w` and `b`, we can define how we update the parameters via SGD:"
   ]
  },
  {
   "cell_type": "code",
   "execution_count": 5,
   "metadata": {
    "collapsed": true
   },
   "outputs": [],
   "source": [
    "# Gradients\n",
    "grads = K.gradients(loss, [w, b])\n",
    "updates = [[w, w-lr*grads[0]], [b, b-lr*grads[1]]]"
   ]
  },
  {
   "cell_type": "markdown",
   "metadata": {},
   "source": [
    "The whole model can be encapsulated in a `function`, which takes as input `x` and `target`, returns the current loss value and updates its parameter according to `updates`."
   ]
  },
  {
   "cell_type": "code",
   "execution_count": 6,
   "metadata": {
    "collapsed": true
   },
   "outputs": [],
   "source": [
    "# Training function\n",
    "train = K.function(inputs=[x, target], outputs=[loss], updates=updates)"
   ]
  },
  {
   "cell_type": "markdown",
   "metadata": {},
   "source": [
    "### Training\n",
    "Training is now just a matter of calling the `function` we have just defined. Each time `train` is called, indeed, `w` and `b` will be updated using the SGD rule.\n",
    "\n",
    "We define a number of epochs at each of wich our dataset will be scanned. We can monitor both the loss on training and validation sets keeping a list, and print them and plot them as well."
   ]
  },
  {
   "cell_type": "code",
   "execution_count": 7,
   "metadata": {
    "collapsed": false
   },
   "outputs": [
    {
     "name": "stdout",
     "output_type": "stream",
     "text": [
      "Training loss: 4845862400.000 \t Validation loss: 4430183424.000\n",
      "Training loss: 4498284544.000 \t Validation loss: 4186102016.000\n",
      "Training loss: 4295406080.000 \t Validation loss: 4010717440.000\n",
      "Training loss: 4108082944.000 \t Validation loss: 3846859008.000\n",
      "Training loss: 3934639616.000 \t Validation loss: 3695706624.000\n",
      "Training loss: 3773977600.000 \t Validation loss: 3556403200.000\n",
      "Training loss: 3625091584.000 \t Validation loss: 3428019200.000\n",
      "Training loss: 3487056896.000 \t Validation loss: 3309687808.000\n",
      "Training loss: 3359023872.000 \t Validation loss: 3200614144.000\n",
      "Training loss: 3240212992.000 \t Validation loss: 3100066048.000\n",
      "Training loss: 3129907456.000 \t Validation loss: 3007370752.000\n",
      "Training loss: 3027447296.000 \t Validation loss: 2921910016.000\n",
      "Training loss: 2932227328.000 \t Validation loss: 2843114496.000\n",
      "Training loss: 2843689728.000 \t Validation loss: 2770460672.000\n",
      "Training loss: 2761321984.000 \t Validation loss: 2703467264.000\n",
      "Training loss: 2684653056.000 \t Validation loss: 2641690624.000\n",
      "Training loss: 2613249024.000 \t Validation loss: 2584723200.000\n",
      "Training loss: 2546709760.000 \t Validation loss: 2532189952.000\n",
      "Training loss: 2484668672.000 \t Validation loss: 2483744768.000\n",
      "Training loss: 2426786304.000 \t Validation loss: 2439069440.000\n",
      "Training loss: 2372750592.000 \t Validation loss: 2397871104.000\n",
      "Training loss: 2322275328.000 \t Validation loss: 2359880448.000\n",
      "Training loss: 2275095296.000 \t Validation loss: 2324847872.000\n",
      "Training loss: 2230966272.000 \t Validation loss: 2292544768.000\n",
      "Training loss: 2189663488.000 \t Validation loss: 2262760448.000\n",
      "Training loss: 2150979072.000 \t Validation loss: 2235299584.000\n",
      "Training loss: 2114722176.000 \t Validation loss: 2209983488.000\n",
      "Training loss: 2080715648.000 \t Validation loss: 2186646784.000\n",
      "Training loss: 2048797440.000 \t Validation loss: 2165136896.000\n",
      "Training loss: 2018816256.000 \t Validation loss: 2145312896.000\n",
      "Training loss: 1990632832.000 \t Validation loss: 2127046272.000\n",
      "Training loss: 1964119552.000 \t Validation loss: 2110216832.000\n",
      "Training loss: 1939157760.000 \t Validation loss: 2094713984.000\n",
      "Training loss: 1915637760.000 \t Validation loss: 2080436096.000\n",
      "Training loss: 1893458304.000 \t Validation loss: 2067289600.000\n",
      "Training loss: 1872525184.000 \t Validation loss: 2055187456.000\n",
      "Training loss: 1852752128.000 \t Validation loss: 2044049920.000\n",
      "Training loss: 1834059264.000 \t Validation loss: 2033803392.000\n",
      "Training loss: 1816371968.000 \t Validation loss: 2024379008.000\n",
      "Training loss: 1799621632.000 \t Validation loss: 2015714560.000\n",
      "Training loss: 1783744512.000 \t Validation loss: 2007751040.000\n",
      "Training loss: 1768681984.000 \t Validation loss: 2000435200.000\n",
      "Training loss: 1754378624.000 \t Validation loss: 1993718272.000\n",
      "Training loss: 1740784512.000 \t Validation loss: 1987552896.000\n",
      "Training loss: 1727852544.000 \t Validation loss: 1981897984.000\n",
      "Training loss: 1715539072.000 \t Validation loss: 1976713728.000\n",
      "Training loss: 1703803520.000 \t Validation loss: 1971964288.000\n",
      "Training loss: 1692608384.000 \t Validation loss: 1967616256.000\n",
      "Training loss: 1681919232.000 \t Validation loss: 1963638528.000\n"
     ]
    },
    {
     "data": {
      "image/png": "[encoded data removed]",
      "text/plain": [
       "<matplotlib.figure.Figure at 0x18cfb3c8>"
      ]
     },
     "metadata": {},
     "output_type": "display_data"
    }
   ],
   "source": [
    "train_loss_history = []\n",
    "val_loss_history = []\n",
    "nb_epochs = 1000\n",
    "for epoch in range(nb_epochs):\n",
    "    train_loss = train([X_train, Y_train])[0]\n",
    "    train_loss_history.append(train_loss)\n",
    "\n",
    "    val_loss = eval_loss([X_val, Y_val])[0]\n",
    "    val_loss_history.append(val_loss)\n",
    "\n",
    "    # Print and plot\n",
    "    if epoch % 20 == 0 and epoch != 0:\n",
    "        print \"Training loss: %.03f \\t Validation loss: %.03f\" % (train_loss, val_loss)\n",
    "\n",
    "        # Plot loss history\n",
    "        tr, = plt.plot(train_loss_history, c='r')\n",
    "        vl, = plt.plot(val_loss_history, c='b')\n",
    "        plt.legend([tr, vl], ['Train', 'Val'])\n",
    "        plt.xlim(0, nb_epochs)\n",
    "        plt.ylim(0, max(max(train_loss_history[3:]), max(val_loss_history[3:])))\n",
    "        plt.title('[Epoch: {}] Loss history'.format(epoch))\n",
    "            \n",
    "        plt.draw()\n",
    "        plt.pause(0.001)\n",
    "\n",
    "# Final plot (still)\n",
    "plt.show()"
   ]
  },
  {
   "cell_type": "markdown",
   "metadata": {},
   "source": [
    "### Extra\n",
    "Sometimes when training on the multivariate dataset augmented with non linear features may fall in overfitting. Can you spot it from the loss function behaviour? How can you adjust the loss function in order to reduce this effect?"
   ]
  }
 ],
 "metadata": {
  "anaconda-cloud": {},
  "kernelspec": {
   "display_name": "Python [conda root]",
   "language": "python",
   "name": "conda-root-py"
  },
  "language_info": {
   "codemirror_mode": {
    "name": "ipython",
    "version": 2
   },
   "file_extension": ".py",
   "mimetype": "text/x-python",
   "name": "python",
   "nbconvert_exporter": "python",
   "pygments_lexer": "ipython2",
   "version": "2.7.12"
  }
 },
 "nbformat": 4,
 "nbformat_minor": 1
}
