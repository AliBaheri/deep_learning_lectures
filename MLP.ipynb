{
 "cells": [
  {
   "cell_type": "markdown",
   "metadata": {},
   "source": [
    "# Multilayer Perceptron\n",
    "\n",
    "In the previous tutorial we learnt to define a single perceptron model and we trained it to distinguish between two classes of the [CIFAR-10](https://www.cs.toronto.edu/~kriz/cifar.html) dataset.\n",
    "\n",
    "Now we will use the [Keras](https://keras.io/) API to build an artifical neural network (ANN) in its whole, a.k.a the **Multilayer Perceptron** and we'll train it to perform **multi-class classification** on 10 classes.\n"
   ]
  },
  {
   "cell_type": "markdown",
   "metadata": {},
   "source": [
    "## From theory...\n",
    "\n",
    "Recall:\n",
    "> Multi-layer Perceptron (MLP) is a supervised learning algorithm that learns a function\n",
    "$$f: R^d \\rightarrow R^o$$\n",
    "by training on a dataset, where $d$ is the number of dimensions for input and $o$ is the number of dimensions for output. Given a set of features $X = {x_1, x_2, ..., x_m}$ and a target $t$, it can learn a non-linear function approximator for either classification or regression. It is different from logistic regression, in that between the input and the output layer, there can be one or more non-linear layers, called hidden layers\n",
    "\n",
    "For example, in one-hidden-layer MLP we learn the following function:\n",
    "\n",
    "$$f(x) = softmax(b^{(2)} + W^{(2)}(\\sigma(b^{(1)} + W^{(1)}x)))$$\n",
    "\n",
    "where $x$ is the input, $W^{(1)}, b^{(1)}, W^{(2)} b^{(2)}$ are the learned weights and biases for the first and second layer respectively."
   ]
  },
  {
   "cell_type": "markdown",
   "metadata": {},
   "source": [
    "## ...to practice\n",
    "\n",
    "Even if we could implement the whole ANN \"by hand\", stacking multiple perceptrons together, implemented as we saw in the previous tutorial, we'll make use of the [Keras](https://keras.io/) support for [Dense](https://keras.io/layers/core/#dense) (fully-connected) layers.\n",
    "\n",
    "### Loading the data\n",
    "\n",
    "First, we just load the CIFAR-10 data and normalize the training and test images to lie in the range $[0, 1]$. The only thing to note here is that for multi-class classification is often useful to convert the target from scalar values $t \\in [0, 1, \\dots, nb_{classes}]$ to *one-hot* vectors. For example, suppose we have $C=10$ classes: the target $t_i=3$, indicating that $x_i$ belongs to the class $3$, is converted to the following *one-hot* vector: $[0, 0, 0, 1, 0, 0, 0, 0, 0, 0]$. Being this operation very common, Keras provides a built-in [function](https://keras.io/utils/np_utils/) to do this."
   ]
  },
  {
   "cell_type": "code",
   "execution_count": 1,
   "metadata": {
    "collapsed": false
   },
   "outputs": [
    {
     "name": "stderr",
     "output_type": "stream",
     "text": [
      "Using Theano backend.\n",
      "Using gpu device 0: Quadro K2200 (CNMeM is disabled, cuDNN 5005)\n"
     ]
    },
    {
     "name": "stdout",
     "output_type": "stream",
     "text": [
      "50000 train samples\n",
      "10000 test samples\n"
     ]
    }
   ],
   "source": [
    "from __future__ import print_function\n",
    "import numpy as np\n",
    "from keras.datasets import cifar10\n",
    "from keras.utils import np_utils\n",
    "\n",
    "# size of cifar10 images\n",
    "height, width, channels = 32, 32, 3\n",
    "\n",
    "nb_classes = 10\n",
    "\n",
    "(X_train, y_train), (X_test, y_test) = cifar10.load_data()\n",
    "\n",
    "X_train = np.reshape(X_train, (len(X_train), height * width * channels))\n",
    "X_test = np.reshape(X_test, (len(X_test), height * width * channels))\n",
    "X_train = X_train.astype('float32') / 255\n",
    "X_test = X_test.astype('float32') / 255\n",
    "print(X_train.shape[0], 'train samples')\n",
    "print(X_test.shape[0], 'test samples')\n",
    "\n",
    "# convert class vectors to binary class matrices\n",
    "Y_train = np_utils.to_categorical(y_train, nb_classes)\n",
    "Y_test = np_utils.to_categorical(y_test, nb_classes)"
   ]
  },
  {
   "cell_type": "markdown",
   "metadata": {},
   "source": [
    "### Defining the model (sequential API)\n",
    "\n",
    "The model we want to build is a MLP with 1 input layer, 2 hidden layers and 1 output layer.\n",
    "\n",
    "If we follow the syntax of the sequential API, we need to create an instance of `Sequential()` and then stack all the layers one on the top of the other with `model.add(layer)`. Notice that for the first layer we have to specify the input's shape!\n",
    "\n",
    "Three [`Dense`](https://keras.io/layers/core/#dense) layers are stacked: the first and second have 512 outputs, while the third has as many outputs as the number of classes (10 in our case). The output of the third `Dense` layer is a vector containing `nb_classes` values in an arbitrary range. The `SoftMax` activation squashes these values to the range $[0,1]$, normalizing them such that they sum to $1$ (the math [here](https://en.wikipedia.org/wiki/Softmax_function)). \n",
    "\n",
    "Layers of [`Dropout`](https://keras.io/layers/core/#dropout) take a parameter $p \\in [0,1]$, which represents the probability to set to 0 a certain input unit at each update during trainig time. As you should know, dropout is a form of regularization which helps prevent overfitting."
   ]
  },
  {
   "cell_type": "code",
   "execution_count": 2,
   "metadata": {
    "collapsed": true
   },
   "outputs": [],
   "source": [
    "from keras.models import Sequential\n",
    "from keras.layers import Dense, Dropout, Activation\n",
    "\n",
    "# sequential model\n",
    "model = Sequential()\n",
    "model.add(Dense(512, input_shape=X_train.shape[1:]))\n",
    "model.add(Activation('relu'))\n",
    "model.add(Dropout(0.2))\n",
    "model.add(Dense(512))\n",
    "model.add(Activation('relu'))\n",
    "model.add(Dropout(0.2))\n",
    "model.add(Dense(10))\n",
    "model.add(Activation('softmax'))"
   ]
  },
  {
   "cell_type": "markdown",
   "metadata": {},
   "source": [
    "### Defining the model (functional API)\n",
    "\n",
    "If we follow the functional API, things are slightly different. We have an `Input` instance which represents the input of the network. Each layer can now be applied just as a function to a certain input and produces a certain output. \n",
    "\n",
    "At the end, an instance of `Model` is created and is given the inputs and outputs of the computational graph.\n",
    "\n",
    "In this simple case there's little difference with the sequential version: however, the functional syntax in general guarantees a huge flexibility in the construction of the network architecture. It's advisable to check the guide to the functional API [here](https://keras.io/getting-started/functional-api-guide/)."
   ]
  },
  {
   "cell_type": "code",
   "execution_count": 3,
   "metadata": {
    "collapsed": false
   },
   "outputs": [],
   "source": [
    "from keras.models import Model\n",
    "from keras.layers import Input, Dense, Dropout, Activation\n",
    "\n",
    "# functional model\n",
    "model_in = Input(shape=X_train.shape[1:])\n",
    "x = Dense(512, activation='relu')(model_in)\n",
    "x = Dropout(0.2)(x)\n",
    "x = Dense(512, activation='relu')(x)\n",
    "x = Dropout(0.2)(x)\n",
    "x = Dense(10)(x)\n",
    "model_out = Activation('softmax')(x)\n",
    "\n",
    "model = Model(input=model_in, output=model_out)"
   ]
  },
  {
   "cell_type": "markdown",
   "metadata": {},
   "source": [
    "### Everything is right? Doublecheck the summary!\n",
    "A nice feature of Keras is that we can have access to a text summary of the whole model architecture by simply calling `model.summary()`"
   ]
  },
  {
   "cell_type": "code",
   "execution_count": 4,
   "metadata": {
    "collapsed": false
   },
   "outputs": [
    {
     "name": "stdout",
     "output_type": "stream",
     "text": [
      "____________________________________________________________________________________________________\n",
      "Layer (type)                     Output Shape          Param #     Connected to                     \n",
      "====================================================================================================\n",
      "input_1 (InputLayer)             (None, 3072L)         0                                            \n",
      "____________________________________________________________________________________________________\n",
      "dense_4 (Dense)                  (None, 512)           1573376     input_1[0][0]                    \n",
      "____________________________________________________________________________________________________\n",
      "dropout_3 (Dropout)              (None, 512)           0           dense_4[0][0]                    \n",
      "____________________________________________________________________________________________________\n",
      "dense_5 (Dense)                  (None, 512)           262656      dropout_3[0][0]                  \n",
      "____________________________________________________________________________________________________\n",
      "dropout_4 (Dropout)              (None, 512)           0           dense_5[0][0]                    \n",
      "____________________________________________________________________________________________________\n",
      "dense_6 (Dense)                  (None, 10)            5130        dropout_4[0][0]                  \n",
      "____________________________________________________________________________________________________\n",
      "activation_4 (Activation)        (None, 10)            0           dense_6[0][0]                    \n",
      "====================================================================================================\n",
      "Total params: 1841162\n",
      "____________________________________________________________________________________________________\n",
      "None\n"
     ]
    }
   ],
   "source": [
    "print(model.summary())"
   ]
  },
  {
   "cell_type": "markdown",
   "metadata": {},
   "source": [
    "As we see, in the summary are reported all information about the computational graph that is going to be compiled. Make sure to understand both the output shape and the number of weights of each layer. \n",
    "\n",
    "In order to inspect the **weights** learned by each layer, we can also call the `layer.get_weights()` method. This will return a list with two elements, the first one being the weight tensor and the second one being the bias vector."
   ]
  },
  {
   "cell_type": "code",
   "execution_count": 5,
   "metadata": {
    "collapsed": false
   },
   "outputs": [
    {
     "name": "stdout",
     "output_type": "stream",
     "text": [
      "Layer 1 \t (3072L, 512L) \t (512L,)\n",
      "Layer 3 \t (512L, 512L) \t (512L,)\n",
      "Layer 5 \t (512L, 10L) \t (10L,)\n"
     ]
    }
   ],
   "source": [
    "for i, layer in enumerate(model.layers):\n",
    "    if len(layer.get_weights()) > 0:\n",
    "        print('Layer', i, '\\t', layer.get_weights()[0].shape, '\\t', layer.get_weights()[1].shape)"
   ]
  },
  {
   "cell_type": "markdown",
   "metadata": {},
   "source": [
    "Recall that [Dense](https://keras.io/layers/core/#dense) layers  learn a $(n_i, n_o)$ weight tensor, where $n_i$ and $n_o$ area the $n_i$ and output size of the layer respectively. Each of the $n_o$ neurons also has a bias."
   ]
  },
  {
   "cell_type": "markdown",
   "metadata": {},
   "source": [
    "### Compiling the model\n",
    "\n",
    "In order to compile the computational graph, you need to provide at least an optimizer and a loss function. In this case we employ `Adam` as **optimizer**: however, Keras provides a variety of different [bulti-in optimizers](https://keras.io/optimizers/), so feel free to try another one.\n",
    "\n",
    "Being the task multi-class classification, we unsurprisingly choose as **loss** function the [categorical cross-entropy](https://en.wikipedia.org/wiki/Cross_entropy).\n",
    "\n",
    "When compiling, we can also feed the model with a list of `metrics` to be evaluated during the training: in this case we measure the `accuracy`."
   ]
  },
  {
   "cell_type": "code",
   "execution_count": 6,
   "metadata": {
    "collapsed": true
   },
   "outputs": [],
   "source": [
    "model.compile(loss='categorical_crossentropy',\n",
    "              optimizer='adam',\n",
    "              metrics=['accuracy'])"
   ]
  },
  {
   "cell_type": "markdown",
   "metadata": {},
   "source": [
    "### Let the training begin!\n",
    "\n",
    "Now that everything is in place, we are ready to actually start the training of the network. First we set some parameters, in particular the **batch size** is the size of the batch used to perform the gradient descent. Calling `model.fit` will perform `np_epoch` of training on the training set `X_train`.\n",
    "\n",
    "At the end of each epoch, loss and accuracy are also evaluated on the test data. "
   ]
  },
  {
   "cell_type": "code",
   "execution_count": 9,
   "metadata": {
    "collapsed": false
   },
   "outputs": [
    {
     "name": "stdout",
     "output_type": "stream",
     "text": [
      "Train on 50000 samples, validate on 10000 samples\n",
      "Epoch 1/20\n",
      "50000/50000 [==============================] - 2s - loss: 1.5956 - acc: 0.4308 - val_loss: 1.5311 - val_acc: 0.4498\n",
      "Epoch 2/20\n",
      "50000/50000 [==============================] - 2s - loss: 1.5747 - acc: 0.4382 - val_loss: 1.5120 - val_acc: 0.4641\n",
      "Epoch 3/20\n",
      "50000/50000 [==============================] - 2s - loss: 1.5566 - acc: 0.4437 - val_loss: 1.4976 - val_acc: 0.4768\n",
      "Epoch 4/20\n",
      "50000/50000 [==============================] - 2s - loss: 1.5427 - acc: 0.4514 - val_loss: 1.4903 - val_acc: 0.4787\n",
      "Epoch 5/20\n",
      "50000/50000 [==============================] - 2s - loss: 1.5330 - acc: 0.4531 - val_loss: 1.4733 - val_acc: 0.4760\n",
      "Epoch 6/20\n",
      "50000/50000 [==============================] - 2s - loss: 1.5179 - acc: 0.4557 - val_loss: 1.4639 - val_acc: 0.4837\n",
      "Epoch 7/20\n",
      "50000/50000 [==============================] - 2s - loss: 1.5028 - acc: 0.4626 - val_loss: 1.4426 - val_acc: 0.4932\n",
      "Epoch 8/20\n",
      "50000/50000 [==============================] - 2s - loss: 1.4862 - acc: 0.4692 - val_loss: 1.4530 - val_acc: 0.4866\n",
      "Epoch 9/20\n",
      "50000/50000 [==============================] - 2s - loss: 1.4822 - acc: 0.4711 - val_loss: 1.4353 - val_acc: 0.4920\n",
      "Epoch 10/20\n",
      "50000/50000 [==============================] - 2s - loss: 1.4718 - acc: 0.4724 - val_loss: 1.4255 - val_acc: 0.4979\n",
      "Epoch 11/20\n",
      "50000/50000 [==============================] - 2s - loss: 1.4535 - acc: 0.4825 - val_loss: 1.4155 - val_acc: 0.4993\n",
      "Epoch 12/20\n",
      "50000/50000 [==============================] - 2s - loss: 1.4509 - acc: 0.4837 - val_loss: 1.4460 - val_acc: 0.4797\n",
      "Epoch 13/20\n",
      "50000/50000 [==============================] - 2s - loss: 1.4510 - acc: 0.4831 - val_loss: 1.4110 - val_acc: 0.4958\n",
      "Epoch 14/20\n",
      "50000/50000 [==============================] - 2s - loss: 1.4355 - acc: 0.4880 - val_loss: 1.4235 - val_acc: 0.4945\n",
      "Epoch 15/20\n",
      "50000/50000 [==============================] - 2s - loss: 1.4208 - acc: 0.4922 - val_loss: 1.4072 - val_acc: 0.4992\n",
      "Epoch 16/20\n",
      "50000/50000 [==============================] - 2s - loss: 1.4205 - acc: 0.4907 - val_loss: 1.4000 - val_acc: 0.5051\n",
      "Epoch 17/20\n",
      "50000/50000 [==============================] - 2s - loss: 1.4189 - acc: 0.4918 - val_loss: 1.3960 - val_acc: 0.5028\n",
      "Epoch 18/20\n",
      "50000/50000 [==============================] - 2s - loss: 1.4084 - acc: 0.4967 - val_loss: 1.4029 - val_acc: 0.5007\n",
      "Epoch 19/20\n",
      "50000/50000 [==============================] - 2s - loss: 1.3983 - acc: 0.5023 - val_loss: 1.3933 - val_acc: 0.4998\n",
      "Epoch 20/20\n",
      "50000/50000 [==============================] - 2s - loss: 1.3920 - acc: 0.5029 - val_loss: 1.3881 - val_acc: 0.5067\n"
     ]
    }
   ],
   "source": [
    "nb_epoch = 20\n",
    "batch_size = 1024\n",
    "history = model.fit(X_train, Y_train,\n",
    "                    batch_size=batch_size,\n",
    "                    nb_epoch=nb_epoch,\n",
    "                    validation_data=(X_test, Y_test))"
   ]
  },
  {
   "cell_type": "markdown",
   "metadata": {},
   "source": [
    "### Evaluation\n",
    "When the training ends, we can evaluate the generalization performance of the model as follows:"
   ]
  },
  {
   "cell_type": "code",
   "execution_count": 10,
   "metadata": {
    "collapsed": false
   },
   "outputs": [
    {
     "name": "stdout",
     "output_type": "stream",
     "text": [
      "Test score: 1.38805037575\n",
      "Test accuracy: 0.5067\n"
     ]
    }
   ],
   "source": [
    "score = model.evaluate(X_test, Y_test, verbose=0)\n",
    "\n",
    "print('Test score:', score[0])\n",
    "print('Test accuracy:', score[1])"
   ]
  },
  {
   "cell_type": "markdown",
   "metadata": {},
   "source": [
    "The return value of the fit function is a [keras.callbacks.History](https://keras.io/callbacks/#history) object which contains the training/validation loss and accuracy for each epoch.\n",
    "\n",
    "We can therefore plot the behaviour of loss and accuracy during the training phase."
   ]
  },
  {
   "cell_type": "code",
   "execution_count": 11,
   "metadata": {
    "collapsed": false
   },
   "outputs": [
    {
     "data": {
      "text/plain": [
       "<matplotlib.legend.Legend at 0x35d41198>"
      ]
     },
     "execution_count": 11,
     "metadata": {},
     "output_type": "execute_result"
    },
    {
     "data": {
      "image/png": "[encoded data removed]",
      "text/plain": [
       "<matplotlib.figure.Figure at 0x350b35f8>"
      ]
     },
     "metadata": {},
     "output_type": "display_data"
    },
    {
     "data": {
      "image/png": "[encoded data removed]",
      "text/plain": [
       "<matplotlib.figure.Figure at 0x351cf198>"
      ]
     },
     "metadata": {},
     "output_type": "display_data"
    }
   ],
   "source": [
    "import matplotlib.pyplot as plt\n",
    "%matplotlib inline\n",
    "\n",
    "plt.figure()\n",
    "plt.xlabel('Epochs')\n",
    "plt.ylabel('Loss')\n",
    "plt.plot(history.history['loss'])\n",
    "plt.plot(history.history['val_loss'])\n",
    "plt.legend(['Training', 'Validation'])\n",
    "\n",
    "plt.figure()\n",
    "plt.xlabel('Epochs')\n",
    "plt.ylabel('Accuracy')\n",
    "plt.plot(history.history['acc'])\n",
    "plt.plot(history.history['val_acc'])\n",
    "plt.legend(['Training', 'Validation'], loc='lower right')"
   ]
  },
  {
   "cell_type": "markdown",
   "metadata": {},
   "source": [
    "### Extra\n",
    "- What's the problem of this model? Anything to do with over/underfitting?"
   ]
  }
 ],
 "metadata": {
  "kernelspec": {
   "display_name": "Python 2",
   "language": "python",
   "name": "python2"
  },
  "language_info": {
   "codemirror_mode": {
    "name": "ipython",
    "version": 2
   },
   "file_extension": ".py",
   "mimetype": "text/x-python",
   "name": "python",
   "nbconvert_exporter": "python",
   "pygments_lexer": "ipython2",
   "version": "2.7.11"
  }
 },
 "nbformat": 4,
 "nbformat_minor": 0
}
