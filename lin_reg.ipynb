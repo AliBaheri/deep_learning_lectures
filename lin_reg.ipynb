{
 "cells": [
  {
   "cell_type": "markdown",
   "metadata": {},
   "source": [
    "# Linear Regression with Theano\n",
    "In this tutorial we will move the first steps in the [Theano](http://deeplearning.net/software/theano/) library, a popular tensor manipulation library that provides automatic differentiation. We will learn the basics implementing a simple linear regression solver."
   ]
  },
  {
   "cell_type": "markdown",
   "metadata": {},
   "source": [
    "## Remember multivariate linear regression?\n",
    "\n",
    "Recall that given a dataset $\\{(x_i, y_i)\\}_{i=0}^N$, with $x_i \\in \\mathbb{R}^d, y_i \\in \\mathbb{R}$, the objective of linear regression is to find a vector $w \\in \\mathbb{R}^d$ and a scalar $b$ such that $y = w^Tx + b$ fits the dataset. In this tutorial we will learn $w$ and $b$ using SGD and a Mean Square Error (MSE) loss:\n",
    "\n",
    "$$L = \\frac{1}{N} \\sum_{i=0}^N (w^Tx_i + b - y_i)^2$$\n",
    "\n",
    "Starting from random values, parameters $w$ and $b$ will be updated at each iteration via the following rule:\n",
    "\n",
    "$$w_t = w_{t-1} - \\eta \\frac{\\partial L}{\\partial w}$$\n",
    "$$b_t = b_{t-1} - \\eta \\frac{\\partial L}{\\partial b}$$\n",
    "\n",
    "where $\\eta$ represents the learning rate of our optimizer.\n"
   ]
  },
  {
   "cell_type": "markdown",
   "metadata": {},
   "source": [
    "## A real problem to solve\n",
    "Data we will use is from the [House Pricing Kaggle Competition](http://www.kaggle.com/c/house-prices-advanced-regression-techniques/). The proposed challenge is to predict a house price given other 79 variables, describing various aspects of it. Notice that this problem is hard and highly non-linear but, for the sake of this tutorial, we will use only real-valued features (about 30 variables) and a linear model.\n",
    "The function we will use to load data will\n",
    "* load data from the csv file into a numpy array;\n",
    "* remove columns containing non numerical or incomplete data;\n",
    "* shuffle the entire set\n",
    "* separate observations from targets\n",
    "* optionally add artificial quadratic features (simply as product of the existing ones)\n",
    "* split into training and validation samples\n",
    "\n",
    "and will look like this:"
   ]
  },
  {
   "cell_type": "code",
   "execution_count": 1,
   "metadata": {
    "collapsed": false
   },
   "outputs": [
    {
     "name": "stderr",
     "output_type": "stream",
     "text": [
      "Using Theano backend.\n",
      "Using gpu device 0: Quadro K2200 (CNMeM is disabled, cuDNN 5103)\n"
     ]
    },
    {
     "name": "stdout",
     "output_type": "stream",
     "text": [
      "(1168L, 33L)\n",
      "1168 Training samples\n",
      "292 Validation samples\n",
      "33 observed variables\n"
     ]
    }
   ],
   "source": [
    "import keras.backend as K\n",
    "import numpy as np\n",
    "import matplotlib.pyplot as plt\n",
    "import random\n",
    "\n",
    "def get_data(non_linearities=False, train_ratio=0.8):\n",
    "\n",
    "    # Load data\n",
    "    data = np.genfromtxt('train.csv', delimiter=',').astype(np.float32)\n",
    "    data = data[:, ~np.isnan(data).any(axis=0)]\n",
    "\n",
    "    # Shuffle data\n",
    "    random.shuffle(data)\n",
    "\n",
    "    # separate into observations and targets\n",
    "    X = data[:, 1:-1]\n",
    "    Y = data[:, -1]\n",
    "\n",
    "    # Optionally add non linear features\n",
    "    if non_linearities:\n",
    "        X_cl = X.copy()\n",
    "        n_var = X.shape[1]\n",
    "        for i in range(0, n_var):\n",
    "            for j in range(i, n_var):\n",
    "                f = np.expand_dims(X_cl[:, i]*X_cl[:, j], axis=1)\n",
    "                if f.max() != 0:\n",
    "                    X = np.concatenate((X, f), axis=1)\n",
    "\n",
    "    # normalize X\n",
    "    x_norm = np.max(X, axis=0)\n",
    "    X /= x_norm\n",
    "\n",
    "    # Split into train and validation\n",
    "    X_train = X[0:int(X.shape[0]*train_ratio), :]\n",
    "    Y_train = Y[0:int(Y.shape[0]*train_ratio)]\n",
    "    X_val = X[int(X.shape[0]*train_ratio)::, :]\n",
    "    Y_val = Y[int(Y.shape[0]*train_ratio)::]\n",
    "\n",
    "    return X_train, Y_train, X_val, Y_val\n",
    "\n",
    "# Load data\n",
    "X_train, Y_train, X_val, Y_val = get_data()\n",
    "n_feat = X_train.shape[1]\n",
    "\n",
    "print X_train.shape\n",
    "print '{} Training samples'.format(X_train.shape[0])\n",
    "print '{} Validation samples'.format(X_val.shape[0])\n",
    "print '{} observed variables'.format(n_feat)"
   ]
  },
  {
   "cell_type": "markdown",
   "metadata": {},
   "source": [
    "## Let's start!\n",
    "### Placeholders and variables\n",
    "To implement and run a linear model, we will use the [Keras backend module](http://keras.io/backend/), which provides an abstraction over Theano.\n",
    "\n",
    "First of all, we define the necessary variables and placeholders for our computational graph. Variables maintain state across executions of the computational graph, while placeholders are ways to feed the graph with external data.\n",
    "\n",
    "For the linear regression example, we need three variables: `w`, `b`, and the learning rate for SGD, `lr`. Two placeholders `x` and `target` are created to store $x_i$ and $y_i$ values."
   ]
  },
  {
   "cell_type": "code",
   "execution_count": 2,
   "metadata": {
    "collapsed": false
   },
   "outputs": [],
   "source": [
    "# Placeholders and variables\n",
    "x = K.placeholder(shape=(None, n_feat))\n",
    "target = K.placeholder(shape=(1,))\n",
    "lr = K.variable(0.01)\n",
    "w = K.variable(np.random.rand(n_feat))\n",
    "b = K.variable(np.random.rand())"
   ]
  },
  {
   "cell_type": "markdown",
   "metadata": {},
   "source": [
    "### Model definition\n",
    "Now we can define the $y = w^Tx + b$ relation as well as the MSE loss in the computational graph."
   ]
  },
  {
   "cell_type": "code",
   "execution_count": 3,
   "metadata": {
    "collapsed": true
   },
   "outputs": [],
   "source": [
    "# Define model and loss\n",
    "y = K.dot(x, w) + b\n",
    "loss = K.mean(K.square(y-target))\n",
    "eval_loss = K.function(inputs=[x, target], outputs=[loss])"
   ]
  },
  {
   "cell_type": "markdown",
   "metadata": {},
   "source": [
    "Then, given the gradient of MSE wrt to `w` and `b`, we can define how we update the parameters via SGD:"
   ]
  },
  {
   "cell_type": "code",
   "execution_count": 4,
   "metadata": {
    "collapsed": true
   },
   "outputs": [],
   "source": [
    "# Gradients\n",
    "grads = K.gradients(loss, [w, b])\n",
    "updates = [[w, w-lr*grads[0]], [b, b-lr*grads[1]]]"
   ]
  },
  {
   "cell_type": "markdown",
   "metadata": {},
   "source": [
    "The whole model can be encapsulated in a `function`, which takes as input `x` and `target`, returns the current loss value and updates its parameter according to `updates`."
   ]
  },
  {
   "cell_type": "code",
   "execution_count": 5,
   "metadata": {
    "collapsed": true
   },
   "outputs": [],
   "source": [
    "# Training function\n",
    "train = K.function(inputs=[x, target], outputs=[loss], updates=updates)"
   ]
  },
  {
   "cell_type": "markdown",
   "metadata": {},
   "source": [
    "### Training\n",
    "Training is now just a matter of calling the `function` we have just defined. Each time `train` is called, indeed, `w` and `b` will be updated using the SGD rule.\n",
    "\n",
    "We define a number of epochs at each of wich our dataset will be scanned. We can monitor both the loss on training and validation sets keeping a list, and print them and plot them as well."
   ]
  },
  {
   "cell_type": "code",
   "execution_count": 6,
   "metadata": {
    "collapsed": false
   },
   "outputs": [
    {
     "name": "stdout",
     "output_type": "stream",
     "text": [
      "Training loss: 3996341248.000 \t Validation loss: 3552807936.000\n",
      "Training loss: 3689057024.000 \t Validation loss: 3352043776.000\n",
      "Training loss: 3501405696.000 \t Validation loss: 3167929856.000\n",
      "Training loss: 3328795136.000 \t Validation loss: 2995115008.000\n",
      "Training loss: 3169711104.000 \t Validation loss: 2835941120.000\n",
      "Training loss: 3023050752.000 \t Validation loss: 2689476352.000\n",
      "Training loss: 2887803392.000 \t Validation loss: 2554693120.000\n",
      "Training loss: 2763044352.000 \t Validation loss: 2430641408.000\n",
      "Training loss: 2647923200.000 \t Validation loss: 2316445696.000\n",
      "Training loss: 2541661696.000 \t Validation loss: 2211307520.000\n",
      "Training loss: 2443544832.000 \t Validation loss: 2114490496.000\n",
      "Training loss: 2352917248.000 \t Validation loss: 2025321344.000\n",
      "Training loss: 2269178112.000 \t Validation loss: 1943180800.000\n",
      "Training loss: 2191774976.000 \t Validation loss: 1867500800.000\n",
      "Training loss: 2120200960.000 \t Validation loss: 1797761280.000\n",
      "Training loss: 2053991552.000 \t Validation loss: 1733482496.000\n",
      "Training loss: 1992719872.000 \t Validation loss: 1674225536.000\n",
      "Training loss: 1935993600.000 \t Validation loss: 1619586816.000\n",
      "Training loss: 1883452288.000 \t Validation loss: 1569196032.000\n",
      "Training loss: 1834765952.000 \t Validation loss: 1522712320.000\n",
      "Training loss: 1789630208.000 \t Validation loss: 1479823488.000\n",
      "Training loss: 1747766272.000 \t Validation loss: 1440242304.000\n",
      "Training loss: 1708917376.000 \t Validation loss: 1403704576.000\n",
      "Training loss: 1672847744.000 \t Validation loss: 1369967744.000\n",
      "Training loss: 1639340928.000 \t Validation loss: 1338808960.000\n",
      "Training loss: 1608197120.000 \t Validation loss: 1310022912.000\n",
      "Training loss: 1579233152.000 \t Validation loss: 1283421952.000\n",
      "Training loss: 1552280576.000 \t Validation loss: 1258831616.000\n",
      "Training loss: 1527184256.000 \t Validation loss: 1236094080.000\n",
      "Training loss: 1503801600.000 \t Validation loss: 1215061504.000\n",
      "Training loss: 1482001536.000 \t Validation loss: 1195600000.000\n",
      "Training loss: 1461662720.000 \t Validation loss: 1177585024.000\n",
      "Training loss: 1442674176.000 \t Validation loss: 1160902912.000\n",
      "Training loss: 1424933376.000 \t Validation loss: 1145448320.000\n",
      "Training loss: 1408346368.000 \t Validation loss: 1131125120.000\n",
      "Training loss: 1392826112.000 \t Validation loss: 1117844224.000\n",
      "Training loss: 1378291840.000 \t Validation loss: 1105523584.000\n",
      "Training loss: 1364670976.000 \t Validation loss: 1094088064.000\n",
      "Training loss: 1351894528.000 \t Validation loss: 1083468288.000\n",
      "Training loss: 1339900800.000 \t Validation loss: 1073600640.000\n",
      "Training loss: 1328631296.000 \t Validation loss: 1064426048.000\n",
      "Training loss: 1318033152.000 \t Validation loss: 1055890240.000\n",
      "Training loss: 1308057088.000 \t Validation loss: 1047943616.000\n",
      "Training loss: 1298657536.000 \t Validation loss: 1040540416.000\n",
      "Training loss: 1289793280.000 \t Validation loss: 1033637696.000\n",
      "Training loss: 1281425280.000 \t Validation loss: 1027196928.000\n",
      "Training loss: 1273518208.000 \t Validation loss: 1021181952.000\n",
      "Training loss: 1266038528.000 \t Validation loss: 1015559680.000\n",
      "Training loss: 1258956672.000 \t Validation loss: 1010299840.000\n"
     ]
    },
    {
     "data": {
      "image/png": "[encoded data removed]",
      "text/plain": [
       "<matplotlib.figure.Figure at 0x457a438>"
      ]
     },
     "metadata": {},
     "output_type": "display_data"
    }
   ],
   "source": [
    "train_loss_history = []\n",
    "val_loss_history = []\n",
    "nb_epochs = 1000\n",
    "for epoch in range(nb_epochs):\n",
    "    train_loss = train([X_train, Y_train])[0]\n",
    "    train_loss_history.append(train_loss)\n",
    "\n",
    "    val_loss = eval_loss([X_val, Y_val])[0]\n",
    "    val_loss_history.append(val_loss)\n",
    "\n",
    "    # Print and plot\n",
    "    if epoch % 20 == 0 and epoch != 0:\n",
    "        print \"Training loss: %.03f \\t Validation loss: %.03f\" % (train_loss, val_loss)\n",
    "\n",
    "        # Plot loss history\n",
    "        tr, = plt.plot(train_loss_history, c='r')\n",
    "        vl, = plt.plot(val_loss_history, c='b')\n",
    "        plt.legend([tr, vl], ['Train', 'Val'])\n",
    "        plt.xlim(0, nb_epochs)\n",
    "        plt.ylim(0, max(max(train_loss_history[3:]), max(val_loss_history[3:])))\n",
    "        plt.title('[Epoch: {}] Loss history'.format(epoch))\n",
    "            \n",
    "        plt.draw()\n",
    "        plt.pause(0.001)\n",
    "\n",
    "# Final plot (still)\n",
    "plt.show()"
   ]
  },
  {
   "cell_type": "code",
   "execution_count": null,
   "metadata": {
    "collapsed": true
   },
   "outputs": [],
   "source": []
  }
 ],
 "metadata": {
  "anaconda-cloud": {},
  "kernelspec": {
   "display_name": "Python [conda root]",
   "language": "python",
   "name": "conda-root-py"
  },
  "language_info": {
   "codemirror_mode": {
    "name": "ipython",
    "version": 2
   },
   "file_extension": ".py",
   "mimetype": "text/x-python",
   "name": "python",
   "nbconvert_exporter": "python",
   "pygments_lexer": "ipython2",
   "version": "2.7.12"
  }
 },
 "nbformat": 4,
 "nbformat_minor": 1
}
